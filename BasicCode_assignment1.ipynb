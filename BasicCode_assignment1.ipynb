{
 "cells": [
  {
   "cell_type": "code",
   "execution_count": 1,
   "id": "75373b54",
   "metadata": {},
   "outputs": [
    {
     "name": "stdout",
     "output_type": "stream",
     "text": [
      "Hello Phyton\n"
     ]
    }
   ],
   "source": [
    "#1.\tWrite a Python program to print \"Hello Python\"?\n",
    "print('Hello Phyton')"
   ]
  },
  {
   "cell_type": "code",
   "execution_count": 2,
   "id": "b3869362",
   "metadata": {},
   "outputs": [
    {
     "name": "stdout",
     "output_type": "stream",
     "text": [
      "enter a \n",
      "5\n",
      "enter b \n",
      "4\n",
      "sum is=  9\n",
      "division is= 1.25\n"
     ]
    }
   ],
   "source": [
    "#2.\tWrite a Python program to do arithmetical operations addition and division.?\n",
    "a=int(input('enter a \\r'))\n",
    "b=int(input('enter b \\r'))\n",
    "i=float(a/b)\n",
    "print('sum is= ', a+b)\n",
    "print ('division is=',i)"
   ]
  },
  {
   "cell_type": "code",
   "execution_count": 3,
   "id": "bc6bf600",
   "metadata": {},
   "outputs": [
    {
     "name": "stdout",
     "output_type": "stream",
     "text": [
      "enter the base \n",
      "9\n",
      "enter the height \n",
      "5\n",
      "Area is = 22.5\n"
     ]
    }
   ],
   "source": [
    "#3.\tWrite a Python program to find the area of a triangle?\n",
    "a=int(input('enter the base \\r'))\n",
    "b=int(input('enter the height \\r'))\n",
    "Area= float(1/2*a*b)\n",
    "print('Area is =',Area)"
   ]
  },
  {
   "cell_type": "code",
   "execution_count": 4,
   "id": "932f6a4c",
   "metadata": {},
   "outputs": [
    {
     "name": "stdout",
     "output_type": "stream",
     "text": [
      "enter a \n",
      "arun\n",
      "enter b \n",
      "krishna\n",
      "a is krishna\n",
      "b is arun\n"
     ]
    }
   ],
   "source": [
    "#4.\tWrite a Python program to swap two variables?\n",
    "\n",
    "a=input('enter a \\r')\n",
    "b=input ('enter b \\r')\n",
    "temp=a\n",
    "a=b\n",
    "b=temp\n",
    "print('a is',a)\n",
    "print('b is',b)"
   ]
  },
  {
   "cell_type": "code",
   "execution_count": 6,
   "id": "ae70e8ed",
   "metadata": {},
   "outputs": [
    {
     "name": "stdout",
     "output_type": "stream",
     "text": [
      "enter a \n",
      "56\n",
      "random number is 56.0\n"
     ]
    }
   ],
   "source": [
    "#5.\tWrite a Python program to generate a random number?\n",
    "a=float(input('enter a \\r'))\n",
    "print (\"random number is\",a)\n"
   ]
  },
  {
   "cell_type": "code",
   "execution_count": null,
   "id": "037560be",
   "metadata": {},
   "outputs": [],
   "source": []
  }
 ],
 "metadata": {
  "kernelspec": {
   "display_name": "Python 3 (ipykernel)",
   "language": "python",
   "name": "python3"
  },
  "language_info": {
   "codemirror_mode": {
    "name": "ipython",
    "version": 3
   },
   "file_extension": ".py",
   "mimetype": "text/x-python",
   "name": "python",
   "nbconvert_exporter": "python",
   "pygments_lexer": "ipython3",
   "version": "3.9.7"
  }
 },
 "nbformat": 4,
 "nbformat_minor": 5
}
